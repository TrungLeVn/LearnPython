{
 "cells": [
  {
   "cell_type": "markdown",
   "metadata": {},
   "source": [
    "# Import Data"
   ]
  },
  {
   "cell_type": "code",
   "execution_count": 1,
   "metadata": {},
   "outputs": [
    {
     "name": "stdout",
     "output_type": "stream",
     "text": [
      "Collecting vnstock\n",
      "  Downloading vnstock-0.2.8.6-py3-none-any.whl.metadata (8.1 kB)\n",
      "Downloading vnstock-0.2.8.6-py3-none-any.whl (32 kB)\n",
      "Installing collected packages: vnstock\n",
      "Successfully installed vnstock-0.2.8.6\n",
      "Note: you may need to restart the kernel to use updated packages.\n"
     ]
    }
   ],
   "source": [
    "# Cài đặt thư viện vnstock từ Pypi - bản ổn định | Install vnstock from Pypi - stable version\n",
    "%pip install -U vnstock"
   ]
  }
 ],
 "metadata": {
  "kernelspec": {
   "display_name": "Python 3",
   "language": "python",
   "name": "python3"
  },
  "language_info": {
   "codemirror_mode": {
    "name": "ipython",
    "version": 3
   },
   "file_extension": ".py",
   "mimetype": "text/x-python",
   "name": "python",
   "nbconvert_exporter": "python",
   "pygments_lexer": "ipython3",
   "version": "3.10.13"
  }
 },
 "nbformat": 4,
 "nbformat_minor": 2
}
